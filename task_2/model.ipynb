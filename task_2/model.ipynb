{
 "cells": [
  {
   "cell_type": "code",
   "execution_count": 19,
   "metadata": {},
   "outputs": [
    {
     "name": "stdout",
     "output_type": "stream",
     "text": [
      "The autoreload extension is already loaded. To reload it, use:\n",
      "  %reload_ext autoreload\n"
     ]
    },
    {
     "name": "stderr",
     "output_type": "stream",
     "text": [
      "C:\\Users\\arkad\\AppData\\Local\\Temp\\ipykernel_10372\\980968177.py:18: DeprecationWarning: `set_matplotlib_formats` is deprecated since IPython 7.23, directly use `matplotlib_inline.backend_inline.set_matplotlib_formats()`\n",
      "  set_matplotlib_formats('svg', 'pdf') # For export\n"
     ]
    }
   ],
   "source": [
    "%load_ext autoreload\n",
    "%autoreload 2\n",
    "\n",
    "## Standard libraries\n",
    "import os\n",
    "import numpy as np\n",
    "import random\n",
    "from PIL import Image\n",
    "from types import SimpleNamespace\n",
    "from dotenv import load_dotenv\n",
    "\n",
    "load_dotenv()\n",
    "\n",
    "## Imports for plotting\n",
    "import matplotlib.pyplot as plt\n",
    "%matplotlib inline\n",
    "from IPython.display import set_matplotlib_formats\n",
    "set_matplotlib_formats('svg', 'pdf') # For export\n",
    "import matplotlib\n",
    "matplotlib.rcParams['lines.linewidth'] = 2.0\n",
    "import seaborn as sns\n",
    "sns.reset_orig()\n",
    "\n",
    "## PyTorch\n",
    "import torch\n",
    "import torch.nn as nn\n",
    "import torch.utils.data as data\n",
    "import torch.optim as optim\n",
    "\n",
    "# Torchvision\n",
    "import torchvision\n",
    "from torchvision.datasets import CIFAR10\n",
    "from torchvision import transforms\n",
    "import torchvision.models as models\n",
    "\n",
    "import lightning as L\n",
    "from torch.utils.data import DataLoader\n",
    "\n",
    "from example_submission import TaskDataset\n",
    "from torch.utils.data import Dataset\n",
    "from typing import Tuple"
   ]
  },
  {
   "cell_type": "code",
   "execution_count": 27,
   "metadata": {},
   "outputs": [],
   "source": [
    "class ModifedDataset(Dataset):\n",
    "    def __init__(self, dataset, transform=None):\n",
    "        self.ids = dataset.ids\n",
    "        self.imgs = dataset.imgs\n",
    "        self.labels = [int(l) for l in dataset.labels]\n",
    "\n",
    "        self.transform = transform\n",
    "\n",
    "        self.number_of_classes = len(set(self.labels))\n",
    "        self.classes_mapping = {label: i for i, label in enumerate(set(self.labels))}\n",
    "\n",
    "    def __getitem__(self, index) -> Tuple[int, torch.Tensor, int]:\n",
    "        id_ = self.ids[index]\n",
    "        img = self.imgs[index]\n",
    "        if not self.transform is None:\n",
    "            img = self.transform(img)\n",
    "        label = self.classes_mapping[self.labels[index]]\n",
    "        return id_, img, label\n",
    "\n",
    "    def __len__(self):\n",
    "        return len(self.ids)"
   ]
  },
  {
   "cell_type": "code",
   "execution_count": 28,
   "metadata": {},
   "outputs": [],
   "source": [
    "DATASET_PATH = os.getenv(\"TASK_2_DATA_PUBLIC_PATH\")\n",
    "\n",
    "transform = transforms.Compose([\n",
    "    transforms.ToTensor(),\n",
    "    transforms.Lambda(lambda x: x.repeat(3, 1, 1) if x.shape[0] == 1 else x)\n",
    "])\n",
    "\n",
    "dataset = torch.load(DATASET_PATH)\n",
    "dataset = ModifedDataset(dataset, transform)"
   ]
  },
  {
   "cell_type": "code",
   "execution_count": 24,
   "metadata": {},
   "outputs": [
    {
     "data": {
      "text/plain": [
       "50"
      ]
     },
     "execution_count": 24,
     "metadata": {},
     "output_type": "execute_result"
    }
   ],
   "source": [
    "len(set(dataset.labels))"
   ]
  },
  {
   "cell_type": "code",
   "execution_count": 31,
   "metadata": {},
   "outputs": [],
   "source": [
    "# Define the split ratios\n",
    "train_ratio = 0.8\n",
    "val_ratio = 0.1\n",
    "test_ratio = 0.1\n",
    "\n",
    "# Calculate the lengths for each split\n",
    "total_size = len(dataset)\n",
    "train_size = int(train_ratio * total_size)\n",
    "val_size = int(val_ratio * total_size)\n",
    "test_size = total_size - train_size - val_size\n",
    "\n",
    "# Split the dataset\n",
    "train_dataset, val_dataset, test_dataset = torch.utils.data.random_split(dataset, [train_size, val_size, test_size])\n",
    "\n",
    "# Create DataLoader objects for each split\n",
    "batch_size = 256\n",
    "train_loader = DataLoader(train_dataset, batch_size=batch_size, shuffle=True)\n",
    "val_loader = DataLoader(val_dataset, batch_size=batch_size, shuffle=False)\n",
    "test_loader = DataLoader(test_dataset, batch_size=batch_size, shuffle=False)"
   ]
  },
  {
   "cell_type": "code",
   "execution_count": 30,
   "metadata": {},
   "outputs": [
    {
     "name": "stdout",
     "output_type": "stream",
     "text": [
      "[tensor([268238]), tensor([[[[0.2196, 0.3216, 0.3529,  ..., 0.0471, 0.0549, 0.0667],\n",
      "          [0.1451, 0.2353, 0.2902,  ..., 0.0471, 0.0510, 0.0588],\n",
      "          [0.0941, 0.1451, 0.2314,  ..., 0.0588, 0.0510, 0.0471],\n",
      "          ...,\n",
      "          [0.1686, 0.1686, 0.1725,  ..., 0.0588, 0.0745, 0.0863],\n",
      "          [0.2000, 0.1804, 0.1647,  ..., 0.0549, 0.0627, 0.0667],\n",
      "          [0.2039, 0.1765, 0.1569,  ..., 0.0510, 0.0510, 0.0588]],\n",
      "\n",
      "         [[0.2196, 0.3216, 0.3529,  ..., 0.0471, 0.0549, 0.0667],\n",
      "          [0.1451, 0.2353, 0.2902,  ..., 0.0471, 0.0510, 0.0588],\n",
      "          [0.0941, 0.1451, 0.2314,  ..., 0.0588, 0.0510, 0.0471],\n",
      "          ...,\n",
      "          [0.1686, 0.1686, 0.1725,  ..., 0.0588, 0.0745, 0.0863],\n",
      "          [0.2000, 0.1804, 0.1647,  ..., 0.0549, 0.0627, 0.0667],\n",
      "          [0.2039, 0.1765, 0.1569,  ..., 0.0510, 0.0510, 0.0588]],\n",
      "\n",
      "         [[0.2196, 0.3216, 0.3529,  ..., 0.0471, 0.0549, 0.0667],\n",
      "          [0.1451, 0.2353, 0.2902,  ..., 0.0471, 0.0510, 0.0588],\n",
      "          [0.0941, 0.1451, 0.2314,  ..., 0.0588, 0.0510, 0.0471],\n",
      "          ...,\n",
      "          [0.1686, 0.1686, 0.1725,  ..., 0.0588, 0.0745, 0.0863],\n",
      "          [0.2000, 0.1804, 0.1647,  ..., 0.0549, 0.0627, 0.0667],\n",
      "          [0.2039, 0.1765, 0.1569,  ..., 0.0510, 0.0510, 0.0588]]]]), tensor([33])]\n"
     ]
    }
   ],
   "source": [
    "for batch in train_loader:\n",
    "    print(batch)\n",
    "    break"
   ]
  },
  {
   "cell_type": "code",
   "execution_count": 38,
   "metadata": {},
   "outputs": [],
   "source": [
    "class StealingModule(L.LightningModule):\n",
    "    def __init__(self, model, lr=1e-3):\n",
    "        super().__init__()\n",
    "        self.save_hyperparameters()\n",
    "        \n",
    "        self.model = model\n",
    "        self.criterion = nn.CrossEntropyLoss()\n",
    "        self.lr = lr\n",
    "\n",
    "    def forward(self, x):\n",
    "        return self.model(x)\n",
    "\n",
    "    def training_step(self, batch, batch_idx):\n",
    "        id, x, y = batch\n",
    "        logits = self(x)\n",
    "        loss = self.criterion(logits, y)\n",
    "        acc = (logits.argmax(dim=1) == y).float().mean()\n",
    "        self.log(\"train_acc\", acc, prog_bar=True, logger=True)\n",
    "        self.log(\"train_loss\", loss, prog_bar=True, logger=True)\n",
    "        return loss\n",
    "\n",
    "    def validation_step(self, batch, batch_idx):\n",
    "        id, x, y = batch\n",
    "        logits = self(x)\n",
    "        loss = self.criterion(logits, y)\n",
    "        acc = (logits.argmax(dim=1) == y).float().mean()\n",
    "        self.log(\"val_loss\", loss, prog_bar=True, logger=True)\n",
    "        self.log(\"val_acc\", acc, prog_bar=True, logger=True)\n",
    "\n",
    "    def test_step(self, batch, batch_idx):\n",
    "        id, x, y = batch\n",
    "        logits = self(x)\n",
    "        loss = self.criterion(logits, y)\n",
    "        acc = (logits.argmax(dim=1) == y).float().mean()\n",
    "        self.log(\"test_loss\", loss)\n",
    "        self.log(\"test_acc\", acc)\n",
    "\n",
    "    def configure_optimizers(self):\n",
    "        return optim.Adam(self.parameters(), lr=self.lr)\n",
    "\n",
    "class Model(nn.Module):\n",
    "    def __init__(self, model_name, num_classes):\n",
    "        super().__init__()\n",
    "        match model_name:\n",
    "            case \"resnet18\":\n",
    "                self.backbone = models.resnet18(pretrained=True)\n",
    "            case _:\n",
    "                raise NotImplementedError\n",
    "\n",
    "        self.representation = nn.Linear(self.backbone.fc.in_features, 1024)\n",
    "        self.projection = nn.Linear(1024, num_classes)\n",
    "            \n",
    "        self.backbone.fc = nn.Identity()\n",
    "    \n",
    "    def forward(self, x):\n",
    "        x = self.backbone(x)\n",
    "        x = self.representation(x)\n",
    "        x = self.projection(x)\n",
    "        return x"
   ]
  },
  {
   "cell_type": "code",
   "execution_count": 36,
   "metadata": {},
   "outputs": [
    {
     "name": "stderr",
     "output_type": "stream",
     "text": [
      "GPU available: True (cuda), used: True\n",
      "TPU available: False, using: 0 TPU cores\n",
      "IPU available: False, using: 0 IPUs\n",
      "HPU available: False, using: 0 HPUs\n"
     ]
    }
   ],
   "source": [
    "model = Model(model_name=\"resnet18\", num_classes=50)\n",
    "lightning_model = StealingModule(model)\n",
    "trainer = L.Trainer(max_epochs=10, accelerator=\"gpu\" if torch.cuda.is_available() else \"cpu\", logger=False)"
   ]
  },
  {
   "cell_type": "code",
   "execution_count": 37,
   "metadata": {},
   "outputs": [
    {
     "name": "stderr",
     "output_type": "stream",
     "text": [
      "d:\\ProgramFiles\\Miniconda3\\envs\\thesis\\Lib\\site-packages\\lightning\\pytorch\\callbacks\\model_checkpoint.py:653: Checkpoint directory d:\\Code\\ensemble-ai\\task_2\\checkpoints exists and is not empty.\n",
      "LOCAL_RANK: 0 - CUDA_VISIBLE_DEVICES: [0]\n",
      "\n",
      "  | Name      | Type             | Params\n",
      "-----------------------------------------------\n",
      "0 | model     | Model            | 11.2 M\n",
      "1 | criterion | CrossEntropyLoss | 0     \n",
      "-----------------------------------------------\n",
      "11.2 M    Trainable params\n",
      "0         Non-trainable params\n",
      "11.2 M    Total params\n",
      "44.809    Total estimated model params size (MB)\n"
     ]
    },
    {
     "name": "stdout",
     "output_type": "stream",
     "text": [
      "Epoch 0:  10%|▉         | 4/41 [00:00<00:02, 17.59it/s, train_acc=0.398, train_loss=2.260] "
     ]
    },
    {
     "name": "stderr",
     "output_type": "stream",
     "text": [
      "d:\\ProgramFiles\\Miniconda3\\envs\\thesis\\Lib\\site-packages\\lightning\\pytorch\\core\\module.py:507: You called `self.log('train_acc', ..., logger=True)` but have no logger configured. You can enable one by doing `Trainer(logger=ALogger(...))`\n"
     ]
    },
    {
     "name": "stdout",
     "output_type": "stream",
     "text": [
      "Epoch 9: 100%|██████████| 41/41 [00:02<00:00, 16.94it/s, train_acc=0.800, train_loss=0.488, val_loss=1.380, val_acc=0.606]"
     ]
    },
    {
     "name": "stderr",
     "output_type": "stream",
     "text": [
      "`Trainer.fit` stopped: `max_epochs=10` reached.\n"
     ]
    },
    {
     "name": "stdout",
     "output_type": "stream",
     "text": [
      "Epoch 9: 100%|██████████| 41/41 [00:02<00:00, 14.10it/s, train_acc=0.800, train_loss=0.488, val_loss=1.380, val_acc=0.606]\n"
     ]
    }
   ],
   "source": [
    "trainer.fit(lightning_model, train_dataloaders=train_loader, val_dataloaders=val_loader)"
   ]
  }
 ],
 "metadata": {
  "kernelspec": {
   "display_name": "thesis",
   "language": "python",
   "name": "python3"
  },
  "language_info": {
   "codemirror_mode": {
    "name": "ipython",
    "version": 3
   },
   "file_extension": ".py",
   "mimetype": "text/x-python",
   "name": "python",
   "nbconvert_exporter": "python",
   "pygments_lexer": "ipython3",
   "version": "3.11.9"
  }
 },
 "nbformat": 4,
 "nbformat_minor": 2
}
