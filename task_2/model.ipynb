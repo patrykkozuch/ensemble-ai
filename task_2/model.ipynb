{
 "cells": [
  {
   "cell_type": "code",
   "execution_count": null,
   "metadata": {},
   "outputs": [
    {
     "name": "stderr",
     "output_type": "stream",
     "text": [
      "C:\\Users\\arkad\\AppData\\Local\\Temp\\ipykernel_11860\\980968177.py:18: DeprecationWarning: `set_matplotlib_formats` is deprecated since IPython 7.23, directly use `matplotlib_inline.backend_inline.set_matplotlib_formats()`\n",
      "  set_matplotlib_formats('svg', 'pdf') # For export\n"
     ]
    }
   ],
   "source": [
    "%load_ext autoreload\n",
    "%autoreload 2\n",
    "\n",
    "## Standard libraries\n",
    "import os\n",
    "import numpy as np\n",
    "import random\n",
    "from PIL import Image\n",
    "from types import SimpleNamespace\n",
    "from dotenv import load_dotenv\n",
    "\n",
    "load_dotenv()\n",
    "\n",
    "## Imports for plotting\n",
    "import matplotlib.pyplot as plt\n",
    "%matplotlib inline\n",
    "from IPython.display import set_matplotlib_formats\n",
    "set_matplotlib_formats('svg', 'pdf') # For export\n",
    "import matplotlib\n",
    "matplotlib.rcParams['lines.linewidth'] = 2.0\n",
    "import seaborn as sns\n",
    "sns.reset_orig()\n",
    "\n",
    "## PyTorch\n",
    "import torch\n",
    "import torch.nn as nn\n",
    "import torch.utils.data as data\n",
    "import torch.optim as optim\n",
    "\n",
    "# Torchvision\n",
    "import torchvision\n",
    "from torchvision.datasets import CIFAR10\n",
    "from torchvision import transforms\n",
    "import torchvision.models as models\n",
    "\n",
    "import lightning as L\n",
    "from torch.utils.data import DataLoader\n",
    "\n",
    "from example_submission import TaskDataset\n",
    "from torch.utils.data import Dataset\n",
    "from typing import Tuple"
   ]
  },
  {
   "cell_type": "code",
   "execution_count": null,
   "metadata": {},
   "outputs": [],
   "source": [
    "class ModifedDataset(Dataset):\n",
    "    def __init__(self, dataset, transform=None):\n",
    "        self.ids = dataset.ids\n",
    "        self.imgs = dataset.imgs\n",
    "        self.labels = [int(l) for l in dataset.labels]\n",
    "\n",
    "        self.transform = transform\n",
    "\n",
    "        self.number_of_classes = len(set(self.labels))\n",
    "        self.classes_mapping = {label: i for i, label in enumerate(set(self.labels))}\n",
    "\n",
    "    def __getitem__(self, index) -> Tuple[int, torch.Tensor, int]:\n",
    "        id_ = self.ids[index]\n",
    "        img = self.imgs[index]\n",
    "        if not self.transform is None:\n",
    "            img = self.transform(img)\n",
    "        label = self.classes_mapping[self.labels[index]]\n",
    "        return id_, img, label\n",
    "\n",
    "    def __len__(self):\n",
    "        return len(self.ids)"
   ]
  },
  {
   "cell_type": "code",
   "execution_count": null,
   "metadata": {},
   "outputs": [],
   "source": [
    "DATASET_PATH = os.getenv(\"TASK_2_DATA_PUBLIC_PATH\")\n",
    "\n",
    "transform = transforms.Compose([\n",
    "    transforms.ToTensor(),\n",
    "    transforms.Lambda(lambda x: x.repeat(3, 1, 1) if x.shape[0] == 1 else x),\n",
    "    transforms.Normalize(mean = [0.2980, 0.2962, 0.2987], std = [0.2886, 0.2875, 0.2889]),\n",
    "])\n",
    "\n",
    "dataset = torch.load(DATASET_PATH)\n",
    "dataset = ModifedDataset(dataset, transform)"
   ]
  },
  {
   "cell_type": "code",
   "execution_count": null,
   "metadata": {},
   "outputs": [
    {
     "data": {
      "text/plain": [
       "50"
      ]
     },
     "execution_count": 43,
     "metadata": {},
     "output_type": "execute_result"
    }
   ],
   "source": [
    "len(set(dataset.labels))"
   ]
  },
  {
   "cell_type": "code",
   "execution_count": null,
   "metadata": {},
   "outputs": [
    {
     "name": "stdout",
     "output_type": "stream",
     "text": [
      "13000\n"
     ]
    }
   ],
   "source": [
    "# Define the split ratios\n",
    "train_ratio = 0.9\n",
    "val_ratio = 0.1\n",
    "# test_ratio = 0.1\n",
    "\n",
    "# Calculate the lengths for each split\n",
    "total_size = len(dataset)\n",
    "print(total_size)\n",
    "train_size = int(train_ratio * total_size)\n",
    "val_size = int(val_ratio * total_size)\n",
    "# test_size = total_size - train_size - val_size\n",
    "\n",
    "# Split the dataset\n",
    "train_dataset, val_dataset = torch.utils.data.random_split(dataset, [train_size, val_size])\n",
    "\n",
    "# Create DataLoader objects for each split\n",
    "batch_size = 256\n",
    "train_loader = DataLoader(train_dataset, batch_size=batch_size, shuffle=True)\n",
    "val_loader = DataLoader(val_dataset, batch_size=batch_size, shuffle=False)\n",
    "# test_loader = DataLoader(test_dataset, batch_size=batch_size, shuffle=False)"
   ]
  },
  {
   "cell_type": "code",
   "execution_count": 59,
   "metadata": {},
   "outputs": [
    {
     "data": {
      "text/plain": [
       "(11700, 1300)"
      ]
     },
     "execution_count": 59,
     "metadata": {},
     "output_type": "execute_result"
    }
   ],
   "source": [
    "len(train_dataset), len(val_dataset)"
   ]
  },
  {
   "cell_type": "code",
   "execution_count": 45,
   "metadata": {},
   "outputs": [
    {
     "name": "stdout",
     "output_type": "stream",
     "text": [
      "[tensor([125042,  37746,  48298,    629, 112550,  78279,  26582, 125400, 235704,\n",
      "        127706,  18051, 229673, 172382,  38813, 208684,   7682,  35155, 234306,\n",
      "        227129, 219950, 211559, 292212,  22899, 167549, 281195, 124263,  98414,\n",
      "        237129, 215098, 180095, 287061, 133070, 173987, 130627,  43295,  54633,\n",
      "        225780, 179117,   1154, 164865, 157891,   8584,  79262, 162857, 266935,\n",
      "        186996,  14334,  27297, 271741, 178680, 292850, 144421, 146437, 288145,\n",
      "        113014,  20130, 118079,  12462, 112512, 305691, 210137,  88286, 206788,\n",
      "        121070, 262805, 140369, 121173,  48630,  20624,    752,  86121,  31053,\n",
      "         82436, 150115, 208901, 204892,  92799, 123427, 155076, 141454, 183893,\n",
      "        195107,  48702,  33514,  79529, 195861, 288989,  35421,  67165, 162220,\n",
      "        288087, 269807, 254197, 183590, 214496,  20971, 254072,  18886, 127074,\n",
      "        130023,  31756, 115778,  93831, 136154, 219133,   5140, 303393, 258928,\n",
      "        169791, 226007, 213496, 120529, 158570,  13065, 244173,  78348, 272364,\n",
      "        205434, 159464, 170117, 218603, 159775, 279947, 194791,  80031, 277354,\n",
      "        192096,  33839,  10189, 115143, 209935,  89071, 299324, 157501,  47884,\n",
      "         50866, 203974, 263207,  70565,  45291, 265448,  46594, 104688, 177577,\n",
      "        186383,  18510, 140294,  10263, 266842,  35511, 207986, 170896,  47954,\n",
      "         53891, 258811,  98675, 254035,  46589, 267870, 233353, 147072,  79338,\n",
      "         88872, 225989, 142471, 277858,  75643, 123093, 233137,  93268,  42005,\n",
      "        147068,  59015, 175818,  72820,  53196, 228158,  79963, 134564, 276993,\n",
      "        219023, 125902, 276669, 202324, 244378,  81867, 108670, 169760, 195927,\n",
      "        142055,  85906, 290219,  13330,  35087,  47347, 301223, 163097, 239218,\n",
      "         45078, 184276,  53217, 128151, 283099, 290624, 194483, 258323,  15992,\n",
      "        182465,  93812, 243198, 264093, 301539, 227853,   6371, 135837,  15706,\n",
      "        105941, 186107, 245538,  80058, 259284, 153510,  51033,  45161, 217869,\n",
      "        139725, 288863, 214737, 230762, 146305, 118961, 270793,  74614,  27227,\n",
      "         86083, 290606,  45052,  71041,  34981, 166251,  22321, 204335, 101431,\n",
      "         48676, 101694,  35452, 283808, 125450, 287419,  52675, 137282, 142907,\n",
      "        134603,  94270, 297490,  45557]), tensor([[[[ 2.4053,  2.3917,  2.3373,  ..., -0.7472, -0.7200, -0.7200],\n",
      "          [ 0.6524,  0.4621,  0.2719,  ..., -0.6929, -0.6793, -0.6793],\n",
      "          [-0.6793, -0.6793, -0.7065,  ..., -0.6793, -0.6929, -0.6793],\n",
      "          ...,\n",
      "          [-0.8559, -0.8967, -0.8559,  ..., -0.8831, -0.8831, -0.9103],\n",
      "          [-0.8695, -0.8695, -0.8423,  ..., -0.7880, -0.7336, -0.6929],\n",
      "          [-0.8831, -0.8967, -0.8695,  ...,  1.3318,  1.5220,  1.6987]],\n",
      "\n",
      "         [[ 2.4207,  2.4071,  2.3525,  ..., -0.7438, -0.7165, -0.7165],\n",
      "          [ 0.6611,  0.4702,  0.2792,  ..., -0.6893, -0.6756, -0.6756],\n",
      "          [-0.6756, -0.6756, -0.7029,  ..., -0.6756, -0.6893, -0.6756],\n",
      "          ...,\n",
      "          [-0.8529, -0.8939, -0.8529,  ..., -0.8802, -0.8802, -0.9075],\n",
      "          [-0.8666, -0.8666, -0.8393,  ..., -0.7847, -0.7302, -0.6893],\n",
      "          [-0.8802, -0.8939, -0.8666,  ...,  1.3431,  1.5341,  1.7114]],\n",
      "\n",
      "         [[ 2.4003,  2.3868,  2.3325,  ..., -0.7489, -0.7217, -0.7217],\n",
      "          [ 0.6493,  0.4592,  0.2692,  ..., -0.6946, -0.6810, -0.6810],\n",
      "          [-0.6810, -0.6810, -0.7081,  ..., -0.6810, -0.6946, -0.6810],\n",
      "          ...,\n",
      "          [-0.8575, -0.8982, -0.8575,  ..., -0.8846, -0.8846, -0.9118],\n",
      "          [-0.8710, -0.8710, -0.8439,  ..., -0.7896, -0.7353, -0.6946],\n",
      "          [-0.8846, -0.8982, -0.8710,  ...,  1.3280,  1.5180,  1.6945]]],\n",
      "\n",
      "\n",
      "        [[[ 2.0520,  2.0520,  2.0520,  ...,  2.0655,  2.0520,  2.0520],\n",
      "          [ 2.0520,  2.0520,  2.0520,  ...,  2.0655,  2.0520,  2.0520],\n",
      "          [ 2.0520,  2.0520,  2.0520,  ...,  2.0520,  2.0520,  2.0520],\n",
      "          ...,\n",
      "          [ 2.0520,  2.0520,  2.0520,  ...,  2.0520,  2.0520,  2.0520],\n",
      "          [ 2.0520,  2.0520,  2.0520,  ...,  2.0520,  2.0520,  2.0520],\n",
      "          [ 2.0384,  2.0520,  2.0520,  ...,  2.0520,  2.0791,  2.0655]],\n",
      "\n",
      "         [[ 2.0661,  2.0661,  2.0661,  ...,  2.0797,  2.0661,  2.0661],\n",
      "          [ 2.0661,  2.0661,  2.0661,  ...,  2.0797,  2.0661,  2.0661],\n",
      "          [ 2.0661,  2.0661,  2.0661,  ...,  2.0661,  2.0661,  2.0661],\n",
      "          ...,\n",
      "          [ 2.0661,  2.0661,  2.0661,  ...,  2.0661,  2.0661,  2.0661],\n",
      "          [ 2.0661,  2.0661,  2.0661,  ...,  2.0661,  2.0661,  2.0661],\n",
      "          [ 2.0524,  2.0661,  2.0661,  ...,  2.0661,  2.0934,  2.0797]],\n",
      "\n",
      "         [[ 2.0474,  2.0474,  2.0474,  ...,  2.0610,  2.0474,  2.0474],\n",
      "          [ 2.0474,  2.0474,  2.0474,  ...,  2.0610,  2.0474,  2.0474],\n",
      "          [ 2.0474,  2.0474,  2.0474,  ...,  2.0474,  2.0474,  2.0474],\n",
      "          ...,\n",
      "          [ 2.0474,  2.0474,  2.0474,  ...,  2.0474,  2.0474,  2.0474],\n",
      "          [ 2.0474,  2.0474,  2.0474,  ...,  2.0474,  2.0474,  2.0474],\n",
      "          [ 2.0338,  2.0474,  2.0474,  ...,  2.0474,  2.0746,  2.0610]]],\n",
      "\n",
      "\n",
      "        [[[ 1.5356,  1.5220,  1.6171,  ...,  1.7666,  1.7938,  1.8074],\n",
      "          [ 1.5764,  1.6035,  1.6579,  ...,  1.8210,  1.6443,  1.8210],\n",
      "          [ 1.6307,  1.6715,  1.6171,  ...,  1.9161,  1.6307,  1.9840],\n",
      "          ...,\n",
      "          [ 2.0520,  2.0655,  2.0655,  ...,  1.5900,  1.5492,  1.5492],\n",
      "          [ 2.0248,  1.6171,  1.4948,  ...,  1.4813,  1.4813,  1.4813],\n",
      "          [ 1.2910,  1.4133,  1.6443,  ...,  1.6307,  1.5764,  1.3997]],\n",
      "\n",
      "         [[ 0.5793,  0.4156,  0.5111,  ...,  1.0158,  0.9885,  1.0294],\n",
      "          [ 0.4838,  0.4702,  0.5929,  ...,  1.1658,  0.9203,  1.3704],\n",
      "          [ 0.5384,  0.5384,  0.5247,  ...,  1.2749,  0.9339,  1.5614],\n",
      "          ...,\n",
      "          [ 1.9706,  1.9706,  1.9570,  ...,  0.2656,  0.1837,  0.1701],\n",
      "          [ 1.8888,  1.3295,  1.0976,  ...,  0.1292,  0.1292,  0.1292],\n",
      "          [ 0.7566,  0.8385,  1.1658,  ...,  0.2246,  0.2110,  0.1292]],\n",
      "\n",
      "         [[ 1.2737,  1.1651,  1.2465,  ...,  1.5587,  1.5452,  1.5723],\n",
      "          [ 1.2058,  1.1922,  1.2873,  ...,  1.6538,  1.4773,  1.7759],\n",
      "          [ 1.2465,  1.2601,  1.2330,  ...,  1.7216,  1.4909,  1.8981],\n",
      "          ...,\n",
      "          [ 2.1153,  2.1153,  2.1153,  ...,  1.0293,  0.9479,  0.9343],\n",
      "          [ 2.0610,  1.6945,  1.5452,  ...,  0.8936,  0.8936,  0.9072],\n",
      "          [ 1.3144,  1.4094,  1.6402,  ...,  1.0022,  0.9886,  0.9072]]],\n",
      "\n",
      "\n",
      "        ...,\n",
      "\n",
      "\n",
      "        [[[ 2.4324,  2.4324,  2.4324,  ...,  2.4324,  2.4324,  2.4324],\n",
      "          [ 2.4324,  2.4324,  2.4324,  ...,  2.4324,  2.4324,  2.4188],\n",
      "          [ 2.4324,  2.4324,  2.4324,  ...,  2.4324,  2.4324,  2.4188],\n",
      "          ...,\n",
      "          [-0.7744, -0.7472, -0.6793,  ..., -0.5162, -0.5570, -0.5977],\n",
      "          [-0.8016, -0.7880, -0.7336,  ..., -0.6249, -0.6249, -0.6385],\n",
      "          [-0.8152, -0.7880, -0.7608,  ..., -0.6657, -0.6657, -0.6113]],\n",
      "\n",
      "         [[ 2.4480,  2.4480,  2.4480,  ...,  2.4480,  2.4480,  2.4480],\n",
      "          [ 2.4480,  2.4480,  2.4480,  ...,  2.4480,  2.4480,  2.4344],\n",
      "          [ 2.4480,  2.4480,  2.4480,  ...,  2.4480,  2.4480,  2.4344],\n",
      "          ...,\n",
      "          [-0.7711, -0.7438, -0.6756,  ..., -0.5119, -0.5529, -0.5938],\n",
      "          [-0.7984, -0.7847, -0.7302,  ..., -0.6211, -0.6211, -0.6347],\n",
      "          [-0.8120, -0.7847, -0.7575,  ..., -0.6620, -0.6620, -0.6074]],\n",
      "\n",
      "         [[ 2.4275,  2.4275,  2.4275,  ...,  2.4275,  2.4275,  2.4275],\n",
      "          [ 2.4275,  2.4275,  2.4275,  ...,  2.4275,  2.4275,  2.4139],\n",
      "          [ 2.4275,  2.4275,  2.4275,  ...,  2.4275,  2.4275,  2.4139],\n",
      "          ...,\n",
      "          [-0.7760, -0.7489, -0.6810,  ..., -0.5181, -0.5588, -0.5995],\n",
      "          [-0.8032, -0.7896, -0.7353,  ..., -0.6267, -0.6267, -0.6403],\n",
      "          [-0.8167, -0.7896, -0.7624,  ..., -0.6674, -0.6674, -0.6131]]],\n",
      "\n",
      "\n",
      "        [[[-0.9918, -0.9782, -0.9918,  ..., -0.2173, -0.3124, -0.3532],\n",
      "          [-0.9918, -0.9646, -0.9782,  ..., -0.2988, -0.3260, -0.3260],\n",
      "          [-0.9782, -0.9646, -0.9646,  ..., -0.3532, -0.3260, -0.3396],\n",
      "          ...,\n",
      "          [-0.8695, -0.8559, -0.8831,  ..., -0.8287, -0.7880, -0.7200],\n",
      "          [-0.8831, -0.8831, -0.8967,  ..., -0.7744, -0.7200, -0.6929],\n",
      "          [-0.8423, -0.8831, -0.8967,  ..., -0.7472, -0.7065, -0.7200]],\n",
      "\n",
      "         [[-0.9893, -0.9757, -0.9893,  ..., -0.2118, -0.3073, -0.3482],\n",
      "          [-0.9893, -0.9621, -0.9757,  ..., -0.2937, -0.3210, -0.3210],\n",
      "          [-0.9757, -0.9621, -0.9621,  ..., -0.3482, -0.3210, -0.3346],\n",
      "          ...,\n",
      "          [-0.8666, -0.8529, -0.8802,  ..., -0.8257, -0.7847, -0.7165],\n",
      "          [-0.8802, -0.8802, -0.8939,  ..., -0.7711, -0.7165, -0.6893],\n",
      "          [-0.8393, -0.8802, -0.8939,  ..., -0.7438, -0.7029, -0.7165]],\n",
      "\n",
      "         [[-0.9932, -0.9796, -0.9932,  ..., -0.2195, -0.3145, -0.3552],\n",
      "          [-0.9932, -0.9661, -0.9796,  ..., -0.3009, -0.3281, -0.3281],\n",
      "          [-0.9796, -0.9661, -0.9661,  ..., -0.3552, -0.3281, -0.3416],\n",
      "          ...,\n",
      "          [-0.8710, -0.8575, -0.8846,  ..., -0.8303, -0.7896, -0.7217],\n",
      "          [-0.8846, -0.8846, -0.8982,  ..., -0.7760, -0.7217, -0.6946],\n",
      "          [-0.8439, -0.8846, -0.8982,  ..., -0.7489, -0.7081, -0.7217]]],\n",
      "\n",
      "\n",
      "        [[[ 1.9297,  1.9297,  1.9568,  ...,  1.9297,  1.9161,  1.8889],\n",
      "          [ 1.9161,  1.9433,  1.9704,  ...,  1.9704,  1.9433,  1.9161],\n",
      "          [ 1.9161,  1.9704,  1.9297,  ...,  1.9704,  1.9568,  1.9704],\n",
      "          ...,\n",
      "          [ 1.9433,  1.9568,  1.9433,  ...,  1.9568,  1.9568,  1.9568],\n",
      "          [ 1.9297,  1.9704,  1.9297,  ...,  1.9433,  1.9161,  1.9433],\n",
      "          [ 1.9433,  1.9297,  1.9433,  ...,  1.9297,  1.9433,  1.9297]],\n",
      "\n",
      "         [[ 1.7796,  1.7796,  1.7796,  ...,  1.7251,  1.6841,  1.6569],\n",
      "          [ 1.7660,  1.7796,  1.7933,  ...,  1.7933,  1.7660,  1.7251],\n",
      "          [ 1.7660,  1.7933,  1.7796,  ...,  1.7796,  1.7796,  1.7933],\n",
      "          ...,\n",
      "          [ 1.7660,  1.7796,  1.7796,  ...,  1.7796,  1.7660,  1.7660],\n",
      "          [ 1.7660,  1.7933,  1.7660,  ...,  1.7660,  1.7251,  1.7523],\n",
      "          [ 1.7660,  1.7523,  1.7660,  ...,  1.7660,  1.7660,  1.7660]],\n",
      "\n",
      "         [[ 2.0338,  2.0203,  2.0338,  ...,  1.9931,  1.9795,  1.9524],\n",
      "          [ 2.0203,  2.0203,  2.0338,  ...,  2.0338,  2.0203,  1.9931],\n",
      "          [ 2.0203,  2.0338,  2.0203,  ...,  2.0338,  2.0203,  2.0338],\n",
      "          ...,\n",
      "          [ 2.0067,  2.0203,  2.0203,  ...,  2.0203,  2.0203,  2.0203],\n",
      "          [ 2.0203,  2.0338,  2.0203,  ...,  2.0203,  1.9931,  2.0067],\n",
      "          [ 2.0203,  2.0203,  2.0203,  ...,  2.0203,  2.0203,  2.0067]]]]), tensor([14, 23, 10, 18, 14, 42,  6, 17, 11, 17,  0, 11, 35,  6, 16, 10, 10,  2,\n",
      "         2, 33, 33,  2,  6, 43, 33, 14, 45, 33, 16, 33,  2, 14, 33, 45, 23,  4,\n",
      "         2, 19, 27, 41,  1,  4, 14, 24,  2,  2,  4, 36,  9,  2, 19, 17, 45, 16,\n",
      "        14,  6, 14,  4, 42,  2,  2, 17,  2, 17, 11, 17, 17, 39, 40, 27, 14, 23,\n",
      "        14, 14, 19,  2, 14, 17, 26, 14, 33,  2,  6, 32, 14, 33,  3, 39, 36,  1,\n",
      "        33, 33, 16,  2, 19, 10, 19,  4, 45, 45, 23, 14, 42, 45, 33, 10,  9,  2,\n",
      "        41,  2,  3, 14,  1,  0, 11, 17, 16,  2,  1, 21, 33,  1,  2,  2, 14,  2,\n",
      "        33,  6, 39, 17, 33, 14,  2, 22, 32, 36, 16,  9, 40, 40,  9,  4, 17, 19,\n",
      "         2,  0, 17, 10, 19, 40, 48, 43, 39, 32,  2, 42, 11, 23,  2,  2, 17, 14,\n",
      "        14,  2, 42, 33, 10, 17, 16, 14, 39, 17, 40, 16,  0, 40, 19, 17, 14, 33,\n",
      "        33, 42, 33, 33,  2, 14, 17, 35, 19, 14, 14,  2, 32, 40, 36, 19,  1,  2,\n",
      "        40, 48,  0, 17, 33,  2, 16, 33,  6, 19, 14, 33, 48, 33,  2,  0, 14,  6,\n",
      "        17, 11,  2, 14, 11, 17, 10, 23, 33, 17,  2, 33, 16, 17, 17,  2, 23, 23,\n",
      "        17,  2, 39, 40, 10, 41,  6,  9, 14, 39, 14, 10,  2, 14, 33,  6, 14, 42,\n",
      "        14, 17,  9,  6])]\n"
     ]
    }
   ],
   "source": [
    "for batch in train_loader:\n",
    "    print(batch)\n",
    "    break"
   ]
  },
  {
   "cell_type": "code",
   "execution_count": 46,
   "metadata": {},
   "outputs": [],
   "source": [
    "class StealingModule(L.LightningModule):\n",
    "    def __init__(self, model, lr=1e-3):\n",
    "        super().__init__()\n",
    "        self.save_hyperparameters()\n",
    "        \n",
    "        self.model = model\n",
    "        self.criterion = nn.CrossEntropyLoss()\n",
    "        self.lr = lr\n",
    "\n",
    "    def forward(self, x):\n",
    "        return self.model(x)\n",
    "\n",
    "    def training_step(self, batch, batch_idx):\n",
    "        id, x, y = batch\n",
    "        logits = self(x)\n",
    "        loss = self.criterion(logits, y)\n",
    "        acc = (logits.argmax(dim=1) == y).float().mean()\n",
    "        self.log(\"train_acc\", acc, prog_bar=True, logger=True)\n",
    "        self.log(\"train_loss\", loss, prog_bar=True, logger=True)\n",
    "        return loss\n",
    "\n",
    "    def validation_step(self, batch, batch_idx):\n",
    "        id, x, y = batch\n",
    "        logits = self(x)\n",
    "        loss = self.criterion(logits, y)\n",
    "        acc = (logits.argmax(dim=1) == y).float().mean()\n",
    "        self.log(\"val_loss\", loss, prog_bar=True, logger=True)\n",
    "        self.log(\"val_acc\", acc, prog_bar=True, logger=True)\n",
    "\n",
    "    def test_step(self, batch, batch_idx):\n",
    "        id, x, y = batch\n",
    "        logits = self(x)\n",
    "        loss = self.criterion(logits, y)\n",
    "        acc = (logits.argmax(dim=1) == y).float().mean()\n",
    "        self.log(\"test_loss\", loss)\n",
    "        self.log(\"test_acc\", acc)\n",
    "\n",
    "    def configure_optimizers(self):\n",
    "        return optim.Adam(self.parameters(), lr=self.lr)\n",
    "\n",
    "class Model(nn.Module):\n",
    "    def __init__(self, model_name, num_classes):\n",
    "        super().__init__()\n",
    "        match model_name:\n",
    "            case \"resnet18\":\n",
    "                self.backbone = models.resnet18(pretrained=True)\n",
    "            case _:\n",
    "                raise NotImplementedError\n",
    "\n",
    "        self.representation = nn.Linear(self.backbone.fc.in_features, 1024)\n",
    "        self.projection = nn.Linear(1024, num_classes)\n",
    "            \n",
    "        self.backbone.fc = nn.Identity()\n",
    "    \n",
    "    def forward(self, x):\n",
    "        x = self.backbone(x)\n",
    "        x = self.representation(x)\n",
    "        x = self.projection(x)\n",
    "        return x"
   ]
  },
  {
   "cell_type": "code",
   "execution_count": 47,
   "metadata": {},
   "outputs": [
    {
     "name": "stderr",
     "output_type": "stream",
     "text": [
      "d:\\ProgramFiles\\Miniconda3\\envs\\thesis\\Lib\\site-packages\\torchvision\\models\\_utils.py:208: UserWarning: The parameter 'pretrained' is deprecated since 0.13 and may be removed in the future, please use 'weights' instead.\n",
      "  warnings.warn(\n",
      "d:\\ProgramFiles\\Miniconda3\\envs\\thesis\\Lib\\site-packages\\torchvision\\models\\_utils.py:223: UserWarning: Arguments other than a weight enum or `None` for 'weights' are deprecated since 0.13 and may be removed in the future. The current behavior is equivalent to passing `weights=ResNet18_Weights.IMAGENET1K_V1`. You can also use `weights=ResNet18_Weights.DEFAULT` to get the most up-to-date weights.\n",
      "  warnings.warn(msg)\n",
      "d:\\ProgramFiles\\Miniconda3\\envs\\thesis\\Lib\\site-packages\\lightning\\pytorch\\utilities\\parsing.py:199: Attribute 'model' is an instance of `nn.Module` and is already saved during checkpointing. It is recommended to ignore them using `self.save_hyperparameters(ignore=['model'])`.\n",
      "GPU available: True (cuda), used: True\n",
      "TPU available: False, using: 0 TPU cores\n",
      "IPU available: False, using: 0 IPUs\n",
      "HPU available: False, using: 0 HPUs\n"
     ]
    }
   ],
   "source": [
    "model = Model(model_name=\"resnet18\", num_classes=50)\n",
    "lightning_model = StealingModule(model)\n",
    "trainer = L.Trainer(max_epochs=25, accelerator=\"gpu\" if torch.cuda.is_available() else \"cpu\", logger=False)"
   ]
  },
  {
   "cell_type": "code",
   "execution_count": 61,
   "metadata": {},
   "outputs": [
    {
     "ename": "AttributeError",
     "evalue": "'bytes' object has no attribute 'parameters'",
     "output_type": "error",
     "traceback": [
      "\u001b[1;31m---------------------------------------------------------------------------\u001b[0m",
      "\u001b[1;31mAttributeError\u001b[0m                            Traceback (most recent call last)",
      "Cell \u001b[1;32mIn[61], line 3\u001b[0m\n\u001b[0;32m      1\u001b[0m \u001b[38;5;28;01mfrom\u001b[39;00m \u001b[38;5;21;01mtorchinfo\u001b[39;00m \u001b[38;5;28;01mimport\u001b[39;00m summary\n\u001b[1;32m----> 3\u001b[0m \u001b[38;5;28mprint\u001b[39m(summary(model))\n",
      "File \u001b[1;32md:\\ProgramFiles\\Miniconda3\\envs\\thesis\\Lib\\site-packages\\torchinfo\\torchinfo.py:212\u001b[0m, in \u001b[0;36msummary\u001b[1;34m(model, input_size, input_data, batch_dim, cache_forward_pass, col_names, col_width, depth, device, dtypes, mode, row_settings, verbose, **kwargs)\u001b[0m\n\u001b[0;32m    209\u001b[0m     cache_forward_pass \u001b[38;5;241m=\u001b[39m \u001b[38;5;28;01mFalse\u001b[39;00m\n\u001b[0;32m    211\u001b[0m \u001b[38;5;28;01mif\u001b[39;00m device \u001b[38;5;129;01mis\u001b[39;00m \u001b[38;5;28;01mNone\u001b[39;00m:\n\u001b[1;32m--> 212\u001b[0m     device \u001b[38;5;241m=\u001b[39m get_device(model, input_data)\n\u001b[0;32m    213\u001b[0m \u001b[38;5;28;01melif\u001b[39;00m \u001b[38;5;28misinstance\u001b[39m(device, \u001b[38;5;28mstr\u001b[39m):\n\u001b[0;32m    214\u001b[0m     device \u001b[38;5;241m=\u001b[39m torch\u001b[38;5;241m.\u001b[39mdevice(device)\n",
      "File \u001b[1;32md:\\ProgramFiles\\Miniconda3\\envs\\thesis\\Lib\\site-packages\\torchinfo\\torchinfo.py:481\u001b[0m, in \u001b[0;36mget_device\u001b[1;34m(model, input_data)\u001b[0m\n\u001b[0;32m    479\u001b[0m \u001b[38;5;28;01mif\u001b[39;00m input_data \u001b[38;5;129;01mis\u001b[39;00m \u001b[38;5;28;01mNone\u001b[39;00m:\n\u001b[0;32m    480\u001b[0m     \u001b[38;5;28;01mtry\u001b[39;00m:\n\u001b[1;32m--> 481\u001b[0m         model_parameter \u001b[38;5;241m=\u001b[39m \u001b[38;5;28mnext\u001b[39m(model\u001b[38;5;241m.\u001b[39mparameters())\n\u001b[0;32m    482\u001b[0m     \u001b[38;5;28;01mexcept\u001b[39;00m \u001b[38;5;167;01mStopIteration\u001b[39;00m:\n\u001b[0;32m    483\u001b[0m         model_parameter \u001b[38;5;241m=\u001b[39m \u001b[38;5;28;01mNone\u001b[39;00m\n",
      "\u001b[1;31mAttributeError\u001b[0m: 'bytes' object has no attribute 'parameters'"
     ]
    }
   ],
   "source": [
    "from torchinfo import summary\n",
    "\n",
    "print(summary(model))"
   ]
  },
  {
   "cell_type": "code",
   "execution_count": 48,
   "metadata": {},
   "outputs": [
    {
     "name": "stderr",
     "output_type": "stream",
     "text": [
      "d:\\ProgramFiles\\Miniconda3\\envs\\thesis\\Lib\\site-packages\\lightning\\pytorch\\callbacks\\model_checkpoint.py:653: Checkpoint directory d:\\Code\\ensemble-ai\\task_2\\checkpoints exists and is not empty.\n",
      "LOCAL_RANK: 0 - CUDA_VISIBLE_DEVICES: [0]\n",
      "\n",
      "  | Name      | Type             | Params\n",
      "-----------------------------------------------\n",
      "0 | model     | Model            | 11.8 M\n",
      "1 | criterion | CrossEntropyLoss | 0     \n",
      "-----------------------------------------------\n",
      "11.8 M    Trainable params\n",
      "0         Non-trainable params\n",
      "11.8 M    Total params\n",
      "47.012    Total estimated model params size (MB)\n"
     ]
    },
    {
     "name": "stdout",
     "output_type": "stream",
     "text": [
      "Sanity Checking: |          | 0/? [00:00<?, ?it/s]"
     ]
    },
    {
     "name": "stderr",
     "output_type": "stream",
     "text": [
      "d:\\ProgramFiles\\Miniconda3\\envs\\thesis\\Lib\\site-packages\\lightning\\pytorch\\trainer\\connectors\\data_connector.py:441: The 'val_dataloader' does not have many workers which may be a bottleneck. Consider increasing the value of the `num_workers` argument` to `num_workers=15` in the `DataLoader` to improve performance.\n"
     ]
    },
    {
     "name": "stdout",
     "output_type": "stream",
     "text": [
      "Sanity Checking DataLoader 0:   0%|          | 0/2 [00:00<?, ?it/s]"
     ]
    },
    {
     "name": "stderr",
     "output_type": "stream",
     "text": [
      "d:\\ProgramFiles\\Miniconda3\\envs\\thesis\\Lib\\site-packages\\lightning\\pytorch\\core\\module.py:507: You called `self.log('val_loss', ..., logger=True)` but have no logger configured. You can enable one by doing `Trainer(logger=ALogger(...))`\n"
     ]
    },
    {
     "name": "stdout",
     "output_type": "stream",
     "text": [
      "Sanity Checking DataLoader 0:  50%|█████     | 1/2 [00:00<00:00, 17.23it/s]"
     ]
    },
    {
     "name": "stderr",
     "output_type": "stream",
     "text": [
      "d:\\ProgramFiles\\Miniconda3\\envs\\thesis\\Lib\\site-packages\\lightning\\pytorch\\core\\module.py:507: You called `self.log('val_acc', ..., logger=True)` but have no logger configured. You can enable one by doing `Trainer(logger=ALogger(...))`\n"
     ]
    },
    {
     "name": "stdout",
     "output_type": "stream",
     "text": [
      "                                                                           "
     ]
    },
    {
     "name": "stderr",
     "output_type": "stream",
     "text": [
      "d:\\ProgramFiles\\Miniconda3\\envs\\thesis\\Lib\\site-packages\\lightning\\pytorch\\trainer\\connectors\\data_connector.py:441: The 'train_dataloader' does not have many workers which may be a bottleneck. Consider increasing the value of the `num_workers` argument` to `num_workers=15` in the `DataLoader` to improve performance.\n"
     ]
    },
    {
     "name": "stdout",
     "output_type": "stream",
     "text": [
      "Epoch 0:   2%|▏         | 1/41 [00:00<00:06,  6.58it/s, train_acc=0.0586, train_loss=3.980]"
     ]
    },
    {
     "name": "stderr",
     "output_type": "stream",
     "text": [
      "d:\\ProgramFiles\\Miniconda3\\envs\\thesis\\Lib\\site-packages\\lightning\\pytorch\\core\\module.py:507: You called `self.log('train_acc', ..., logger=True)` but have no logger configured. You can enable one by doing `Trainer(logger=ALogger(...))`\n",
      "d:\\ProgramFiles\\Miniconda3\\envs\\thesis\\Lib\\site-packages\\lightning\\pytorch\\core\\module.py:507: You called `self.log('train_loss', ..., logger=True)` but have no logger configured. You can enable one by doing `Trainer(logger=ALogger(...))`\n"
     ]
    },
    {
     "name": "stdout",
     "output_type": "stream",
     "text": [
      "Epoch 24: 100%|██████████| 41/41 [00:05<00:00,  7.29it/s, train_acc=0.963, train_loss=0.107, val_loss=2.430, val_acc=0.578] "
     ]
    },
    {
     "name": "stderr",
     "output_type": "stream",
     "text": [
      "`Trainer.fit` stopped: `max_epochs=25` reached.\n"
     ]
    },
    {
     "name": "stdout",
     "output_type": "stream",
     "text": [
      "Epoch 24: 100%|██████████| 41/41 [00:06<00:00,  6.54it/s, train_acc=0.963, train_loss=0.107, val_loss=2.430, val_acc=0.578]\n"
     ]
    }
   ],
   "source": [
    "trainer.fit(lightning_model, train_dataloaders=train_loader, val_dataloaders=val_loader)"
   ]
  },
  {
   "cell_type": "code",
   "execution_count": 41,
   "metadata": {},
   "outputs": [],
   "source": [
    "model.projection = nn.Identity()\n",
    "\n",
    "path = 'task_2_submission.onnx'\n",
    "\n",
    "torch.onnx.export(\n",
    "    lightning_model.model,\n",
    "    torch.randn(1, 3, 32, 32),\n",
    "    path,\n",
    "    export_params=True,\n",
    "    input_names=[\"x\"],\n",
    ")"
   ]
  },
  {
   "cell_type": "code",
   "execution_count": 51,
   "metadata": {},
   "outputs": [
    {
     "name": "stdout",
     "output_type": "stream",
     "text": [
      "1024\n"
     ]
    }
   ],
   "source": [
    "import onnxruntime as ort\n",
    "\n",
    "with open(path, \"rb\") as f:\n",
    "    model = f.read()\n",
    "    try:\n",
    "        stolen_model = ort.InferenceSession(model)\n",
    "    except Exception as e:\n",
    "        raise Exception(f\"Invalid model, {e=}\")\n",
    "    try:\n",
    "        out = stolen_model.run(\n",
    "            None, {\"x\": np.random.randn(1, 3, 32, 32).astype(np.float32)}\n",
    "        )[0][0]\n",
    "    except Exception as e:\n",
    "        raise Exception(f\"Some issue with the input, {e=}\")\n",
    "    assert out.shape == (1024,), \"Invalid output shape\"\n",
    "\n",
    "print(len(out))"
   ]
  }
 ],
 "metadata": {
  "kernelspec": {
   "display_name": "thesis",
   "language": "python",
   "name": "python3"
  },
  "language_info": {
   "codemirror_mode": {
    "name": "ipython",
    "version": 3
   },
   "file_extension": ".py",
   "mimetype": "text/x-python",
   "name": "python",
   "nbconvert_exporter": "python",
   "pygments_lexer": "ipython3",
   "version": "3.11.9"
  }
 },
 "nbformat": 4,
 "nbformat_minor": 2
}
