{
 "cells": [
  {
   "cell_type": "code",
   "execution_count": 1,
   "metadata": {},
   "outputs": [],
   "source": [
    "import requests\n",
    "import torch\n",
    "import torch.nn as nn\n",
    "import os\n",
    "from torchvision import models\n",
    "import numpy as np\n",
    "from torch.utils.data import Dataset, DataLoader\n",
    "from torchvision.transforms import v2\n",
    "from torchvision import transforms\n",
    "from torch import optim\n",
    "from matplotlib import pyplot as plt\n",
    "import skimage\n",
    "from tqdm import tqdm"
   ]
  },
  {
   "cell_type": "code",
   "execution_count": 2,
   "metadata": {},
   "outputs": [
    {
     "name": "stdout",
     "output_type": "stream",
     "text": [
      "cuda\n"
     ]
    }
   ],
   "source": [
    "device = torch.device('cuda' if torch.cuda.is_available() else 'cpu')\n",
    "print(device)"
   ]
  },
  {
   "cell_type": "code",
   "execution_count": 3,
   "metadata": {},
   "outputs": [],
   "source": [
    "def filter_img(img: np.ndarray, eps: float = 0.01) -> np.ndarray:\n",
    "    if len(img.shape) == 2:\n",
    "        return False\n",
    "\n",
    "    mg_diff_rg = np.abs(img[..., 0] - img[..., 1])\n",
    "    img_diff_gb = np.abs(img[..., 1] - img[..., 2])\n",
    "    img_diff_br = np.abs(img[..., 2] - img[..., 0])\n",
    "\n",
    "    img_diff_max = np.maximum(np.maximum(mg_diff_rg, img_diff_gb), img_diff_br)\n",
    "    is_skipped = img_diff_max.mean() > eps\n",
    "\n",
    "    # if is_skipped:\n",
    "    #     plt.imshow(img_diff_max)\n",
    "    #     plt.show()\n",
    "\n",
    "    return is_skipped"
   ]
  },
  {
   "cell_type": "code",
   "execution_count": 4,
   "metadata": {},
   "outputs": [],
   "source": [
    "class TaskDataset(Dataset):\n",
    "    def __init__(self, transform=None):\n",
    "\n",
    "        self.ids = []\n",
    "        self.imgs = []\n",
    "        self.labels = []\n",
    "\n",
    "        self.ids_new = []\n",
    "        self.imgs_tensors = []\n",
    "        self.labels_tensors = []\n",
    "\n",
    "        self.transform = transform\n",
    "\n",
    "    def compute_transform(self, should_skip: bool = True):\n",
    "        self.ids_new = []\n",
    "        self.imgs_tensors = []\n",
    "        self.labels_tensors = []\n",
    "\n",
    "        for id_, img, label in zip(self.ids, self.imgs, self.labels):\n",
    "            if should_skip and filter_img(np.array(img).astype(np.float32) / 255.0):\n",
    "                continue\n",
    "\n",
    "            img = (transforms.functional.pil_to_tensor(img).float() / 255.0)\n",
    "            if len(img.shape) == 2:\n",
    "                img = torch.stack((img,)*3, axis=-1)\n",
    "            elif img.shape[0] == 1:\n",
    "                img = torch.cat((img,)*3, axis=0)\n",
    "            self.imgs_tensors.append(img)\n",
    "\n",
    "            label_tensor = torch.tensor(label)\n",
    "            self.labels_tensors.append(label_tensor)\n",
    "\n",
    "            self.ids_new.append(id_)\n",
    "\n",
    "    def __getitem__(self, index) -> tuple[int, torch.Tensor, int]:\n",
    "        id_ = self.ids_new[index]\n",
    "        img = self.imgs_tensors[index]\n",
    "        label = self.labels_tensors[index]\n",
    "\n",
    "        if self.transform:\n",
    "            img = self.transform(img)\n",
    "\n",
    "        return id_, img, label\n",
    "\n",
    "    def __len__(self):\n",
    "        return len(self.ids_new)"
   ]
  },
  {
   "cell_type": "code",
   "execution_count": 40,
   "metadata": {},
   "outputs": [],
   "source": [
    "test_transform = v2.Compose([\n",
    "    v2.Resize((224, 224)),\n",
    "    v2.Normalize([0.2980, 0.2962, 0.2987], [0.2886, 0.2875, 0.2889]),\n",
    "])\n",
    "\n",
    "train_transform = v2.Compose([\n",
    "    v2.Resize((224, 224)),\n",
    "\n",
    "    v2.RandomHorizontalFlip(),\n",
    "    v2.RandomVerticalFlip(),\n",
    "    v2.RandomRotation(40),\n",
    "    v2.RandomAffine(0, translate=(0.1, 0.1), scale=(0.8, 1.2), shear=0.1),\n",
    "\n",
    "    v2.RandomChoice([\n",
    "        v2.GaussianBlur(3),\n",
    "        v2.GaussianBlur(5),\n",
    "        lambda x: x\n",
    "    ], p=[0.3, 0.3, 0.4]),\n",
    "\n",
    "    v2.ColorJitter(brightness=0.02, contrast=0.02, saturation=0.02, hue=0.01),\n",
    "\n",
    "    v2.Normalize([0.2980, 0.2962, 0.2987], [0.2886, 0.2875, 0.2889]),\n",
    "])"
   ]
  },
  {
   "cell_type": "code",
   "execution_count": null,
   "metadata": {},
   "outputs": [],
   "source": [
    "all_dataset = torch.load('Train.pt', weights_only=False)\n",
    "all_dataset.compute_transform()\n",
    "\n",
    "train_size = int(0.9 * len(all_dataset))\n",
    "valid_size = len(all_dataset) - train_size\n",
    "\n",
    "train_dataset, valid_dataset = torch.utils.data.random_split(all_dataset, [train_size, valid_size])\n",
    "train_dataset.transform = train_transform\n",
    "valid_dataset.transform = test_transform"
   ]
  },
  {
   "cell_type": "code",
   "execution_count": 42,
   "metadata": {},
   "outputs": [
    {
     "name": "stdout",
     "output_type": "stream",
     "text": [
      "72988 18248\n"
     ]
    }
   ],
   "source": [
    "print(len(train_dataset), len(valid_dataset))"
   ]
  },
  {
   "cell_type": "code",
   "execution_count": 43,
   "metadata": {},
   "outputs": [],
   "source": [
    "train_dataloader = DataLoader(train_dataset, batch_size=128, shuffle=True, num_workers=16, pin_memory=True)\n",
    "valid_dataloader = DataLoader(valid_dataset, batch_size=128, shuffle=True, num_workers=16, pin_memory=True)"
   ]
  },
  {
   "cell_type": "code",
   "execution_count": 44,
   "metadata": {},
   "outputs": [],
   "source": [
    "# labels = {}\n",
    "\n",
    "# for _, img, label in tqdm(train_dataset):\n",
    "#     label_value = int(label.item())\n",
    "#     if label_value not in labels:\n",
    "#         labels[label_value] = 1\n",
    "#     else:\n",
    "#         labels[label_value] += 1\n",
    "\n",
    "labels = {\n",
    "    8: 31802,\n",
    "    2: 23356,\n",
    "    5: 14886,\n",
    "    4: 7036,\n",
    "    1: 9171,\n",
    "    7: 409,\n",
    "    9: 4706,\n",
    "    3: 3568,\n",
    "    6: 4642,\n",
    "    0: 424\n",
    "}"
   ]
  },
  {
   "cell_type": "code",
   "execution_count": 45,
   "metadata": {},
   "outputs": [
    {
     "data": {
      "text/plain": [
       "{8: 31802,\n",
       " 2: 23356,\n",
       " 5: 14886,\n",
       " 4: 7036,\n",
       " 1: 9171,\n",
       " 7: 409,\n",
       " 9: 4706,\n",
       " 3: 3568,\n",
       " 6: 4642,\n",
       " 0: 424}"
      ]
     },
     "execution_count": 45,
     "metadata": {},
     "output_type": "execute_result"
    }
   ],
   "source": [
    "labels"
   ]
  },
  {
   "cell_type": "code",
   "execution_count": 46,
   "metadata": {},
   "outputs": [
    {
     "data": {
      "image/png": "[encoded data removed]",
      "text/plain": [
       "<Figure size 640x480 with 1 Axes>"
      ]
     },
     "metadata": {},
     "output_type": "display_data"
    }
   ],
   "source": [
    "plt.bar(labels.keys(), labels.values())\n",
    "plt.show()"
   ]
  },
  {
   "cell_type": "code",
   "execution_count": 54,
   "metadata": {},
   "outputs": [],
   "source": [
    "model = models.resnet50(pretrained=True).to(device)\n",
    "\n",
    "for param in model.parameters():\n",
    "    param.requires_grad = False\n",
    "\n",
    "model.fc = nn.Linear(2048, 10).to(device)"
   ]
  },
  {
   "cell_type": "code",
   "execution_count": 55,
   "metadata": {},
   "outputs": [
    {
     "name": "stdout",
     "output_type": "stream",
     "text": [
      "tensor([235.8491,  10.9039,   4.2816,  28.0269,  14.2126,   6.7177,  21.5424,\n",
      "        244.4988,   3.1445,  21.2495], device='cuda:0')\n"
     ]
    }
   ],
   "source": [
    "total_count = sum(labels.values())\n",
    "class_weights = [total_count / labels[label] for label in sorted(labels.keys())]\n",
    "class_weights = torch.tensor(class_weights).to(device)\n",
    "print(class_weights)"
   ]
  },
  {
   "cell_type": "code",
   "execution_count": 56,
   "metadata": {},
   "outputs": [],
   "source": [
    "optimizer = optim.Adam(model.parameters(), lr=0.001)\n",
    "criterion = nn.CrossEntropyLoss(weight=class_weights)"
   ]
  },
  {
   "cell_type": "code",
   "execution_count": 57,
   "metadata": {},
   "outputs": [],
   "source": [
    "def get_some_worst_prediction_images(model: nn.Module, dataloader: DataLoader, limit_proba: float = 0.01) -> list[tuple[torch.Tensor, float]]:\n",
    "    worst_images_return = []\n",
    "\n",
    "    for _, imgs, labels in dataloader:\n",
    "        imgs = imgs.to(device)\n",
    "        labels = labels.to(device)\n",
    "\n",
    "        outputs = model(imgs)\n",
    "        labels_pred_proba = torch.softmax(outputs, dim=1)\n",
    "        real_labels_proba = labels_pred_proba[torch.arange(labels.size(0)), labels]\n",
    "\n",
    "        is_worst = real_labels_proba < limit_proba\n",
    "        worst_images = imgs[is_worst]\n",
    "\n",
    "        for i in range(worst_images.size(0)):\n",
    "            worst_images_return.append((worst_images[i], real_labels_proba[i].item()))\n",
    "\n",
    "    return worst_images_return"
   ]
  },
  {
   "cell_type": "code",
   "execution_count": 77,
   "metadata": {},
   "outputs": [],
   "source": [
    "def fgsm_attack(model, images, labels, epsilon, criterion, min_val, max_val):\n",
    "    images.requires_grad = True\n",
    "    outputs = model(images)\n",
    "    loss = criterion(outputs, labels)\n",
    "    model.zero_grad()\n",
    "    loss.backward()\n",
    "    \n",
    "    adv_images = images + epsilon * images.grad.sign()\n",
    "    \n",
    "    adv_images = torch.clamp(adv_images, min=min_val, max=max_val)\n",
    "    return adv_images.detach()\n",
    "\n",
    "def pgd_attack(model, images, labels, epsilon, num_steps, step_size, criterion, min_val, max_val):\n",
    "    adv_images = images.clone().detach()\n",
    "    adv_images.requires_grad_()\n",
    "    for _ in range(num_steps):\n",
    "        outputs = model(adv_images)\n",
    "        loss = criterion(outputs, labels)\n",
    "        model.zero_grad()\n",
    "        loss.backward()\n",
    "        adv_images = adv_images + step_size * adv_images.grad.sign()\n",
    "        \n",
    "        perturbation = torch.clamp(adv_images - images, min=-epsilon, max=epsilon)\n",
    "        adv_images = images + perturbation\n",
    "        \n",
    "        adv_images = torch.clamp(adv_images, min=min_val, max=max_val)\n",
    "        \n",
    "        adv_images = adv_images.detach()\n",
    "        adv_images.requires_grad_()\n",
    "    return adv_images.detach()"
   ]
  },
  {
   "cell_type": "code",
   "execution_count": 70,
   "metadata": {},
   "outputs": [
    {
     "name": "stdout",
     "output_type": "stream",
     "text": [
      "tensor([[[-1.0326]],\n",
      "\n",
      "        [[-1.0303]],\n",
      "\n",
      "        [[-1.0339]]], device='cuda:0') tensor([[[2.4324]],\n",
      "\n",
      "        [[2.4480]],\n",
      "\n",
      "        [[2.4275]]], device='cuda:0')\n"
     ]
    }
   ],
   "source": [
    "mean = [0.2980, 0.2962, 0.2987]\n",
    "std = [0.2886, 0.2875, 0.2889]\n",
    "\n",
    "mean_tensor = torch.tensor(mean).view(3, 1, 1).to(device)\n",
    "std_tensor = torch.tensor(std).view(3, 1, 1).to(device)\n",
    "min_val = ((0 - mean_tensor) / std_tensor)\n",
    "max_val = ((1 - mean_tensor) / std_tensor)\n",
    "\n",
    "print(min_val, max_val)"
   ]
  },
  {
   "cell_type": "code",
   "execution_count": 80,
   "metadata": {},
   "outputs": [],
   "source": [
    "def train(model: nn.Module, optimizer: optim.Optimizer, criterion, train_dataloader: DataLoader,\n",
    "          epochs: int, val_dataloader: DataLoader | None = None, epsilon: float = 0.03, alpha: float = 0.5,\n",
    "          num_steps: int = 5, step_size: float = 0.01,\n",
    "          alpha_clean: float = 0.33, alpha_fgsm: float = 0.33, alpha_pgd: float = 0.34):\n",
    "    loss_history = []\n",
    "    accuracy_history = []\n",
    "    \n",
    "    for epoch in range(epochs):\n",
    "        total_loss = 0\n",
    "        total_correct = 0\n",
    "        total = 0\n",
    "\n",
    "        model.train()\n",
    "        for id_, img, label in tqdm(train_dataloader):\n",
    "            img = img.to(device)\n",
    "            label = label.to(device)\n",
    "\n",
    "            # ###\n",
    "\n",
    "            # img.requires_grad = True\n",
    "\n",
    "            # optimizer.zero_grad()\n",
    "            # outputs = model(img)\n",
    "\n",
    "            # class_loss = criterion(outputs, label)\n",
    "            # class_img_grad = torch.autograd.grad(class_loss, img, retain_graph=True)[0]\n",
    "            # new_img = img + epsilon * torch.sign(class_img_grad)\n",
    "            # new_img = torch.clamp(new_img, 0, 1)\n",
    "\n",
    "            # outputs_new = model(new_img)\n",
    "            # loss = alpha * criterion(outputs, label) + (1 - alpha) * criterion(outputs_new, label)\n",
    "\n",
    "            # ###\n",
    "\n",
    "            optimizer.zero_grad()\n",
    "\n",
    "            outputs_clean = model(img)\n",
    "            loss_clean = criterion(outputs_clean, label)\n",
    "            \n",
    "            adv_imgs_fgsm = fgsm_attack(model, img, label, epsilon, criterion, min_val, max_val)\n",
    "            outputs_fgsm = model(adv_imgs_fgsm)\n",
    "            loss_fgsm = criterion(outputs_fgsm, label)\n",
    "\n",
    "            # Generate adversarial examples with PGD and compute loss\n",
    "            adv_imgs_pgd = pgd_attack(model, img, label, epsilon, num_steps, step_size, criterion, min_val, max_val)\n",
    "            outputs_pgd = model(adv_imgs_pgd)\n",
    "            loss_pgd = criterion(outputs_pgd, label)\n",
    "\n",
    "            loss = alpha_clean * loss_clean + alpha_fgsm * loss_fgsm + alpha_pgd * loss_pgd\n",
    "\n",
    "            # ###\n",
    "\n",
    "            loss.backward()\n",
    "            optimizer.step()\n",
    "\n",
    "            total_loss += loss.item()\n",
    "            predicted = torch.argmax(outputs_clean, dim=1)\n",
    "            total_correct += (predicted == label).sum().item()\n",
    "\n",
    "            total += len(label)\n",
    "\n",
    "        avg_loss = total_loss / total\n",
    "        accuracy = total_correct / total\n",
    "\n",
    "        if val_dataloader is not None:\n",
    "            model.eval()\n",
    "            total_val_loss = 0\n",
    "            total_val_correct = 0\n",
    "            total_val = 0\n",
    "\n",
    "            with torch.no_grad():\n",
    "                for _, img, label in val_dataloader:\n",
    "                    img = img.to(device)\n",
    "                    label = label.to(device)\n",
    "\n",
    "                    outputs = model(img)\n",
    "                    loss = criterion(outputs, label)\n",
    "\n",
    "                    total_val_loss += loss.item()\n",
    "                    predicted = torch.argmax(outputs, dim=1)\n",
    "                    total_val_correct += (predicted == label).sum().item()\n",
    "\n",
    "                    total_val += len(label)\n",
    "\n",
    "            avg_val_loss = total_val_loss / total_val\n",
    "            val_accuracy = total_val_correct / total_val\n",
    "            print(f'Epoch: {epoch} Loss: {avg_loss} Accuracy: {accuracy} Val Loss: {avg_val_loss} Val Accuracy: {val_accuracy}')\n",
    "        else:\n",
    "            print(f'Epoch: {epoch} Loss: {avg_loss} Accuracy: {accuracy}')\n",
    "            \n",
    "        loss_history.append(avg_loss)\n",
    "        accuracy_history.append(accuracy)\n",
    "\n",
    "    return loss_history, accuracy_history"
   ]
  },
  {
   "cell_type": "code",
   "execution_count": 81,
   "metadata": {},
   "outputs": [
    {
     "name": "stderr",
     "output_type": "stream",
     "text": [
      "100%|█████████████████████████████████████████████████████████████████████████████████| 571/571 [02:16<00:00,  4.18it/s]\n"
     ]
    },
    {
     "name": "stdout",
     "output_type": "stream",
     "text": [
      "Epoch: 0 Loss: 0.0578451462691468 Accuracy: 0.9912451361867705 Val Loss: 0.029688620661393116 Val Accuracy: 0.5562801402893468\n"
     ]
    },
    {
     "name": "stderr",
     "output_type": "stream",
     "text": [
      "100%|█████████████████████████████████████████████████████████████████████████████████| 571/571 [02:15<00:00,  4.21it/s]\n"
     ]
    },
    {
     "name": "stdout",
     "output_type": "stream",
     "text": [
      "Epoch: 1 Loss: 0.057589342811437294 Accuracy: 0.9917520688332329 Val Loss: 0.027271016275919303 Val Accuracy: 0.5611025865848313\n"
     ]
    },
    {
     "name": "stderr",
     "output_type": "stream",
     "text": [
      "100%|█████████████████████████████████████████████████████████████████████████████████| 571/571 [02:16<00:00,  4.18it/s]\n"
     ]
    },
    {
     "name": "stdout",
     "output_type": "stream",
     "text": [
      "Epoch: 2 Loss: 0.05758563279386951 Accuracy: 0.9916561626568751 Val Loss: 0.03213879127661318 Val Accuracy: 0.571733888645331\n"
     ]
    },
    {
     "name": "stderr",
     "output_type": "stream",
     "text": [
      "100%|█████████████████████████████████████████████████████████████████████████████████| 571/571 [02:15<00:00,  4.20it/s]\n"
     ]
    },
    {
     "name": "stdout",
     "output_type": "stream",
     "text": [
      "Epoch: 3 Loss: 0.057710527034434855 Accuracy: 0.9912999397161177 Val Loss: 0.0306540444486761 Val Accuracy: 0.5518960982025427\n"
     ]
    },
    {
     "name": "stderr",
     "output_type": "stream",
     "text": [
      "  7%|█████▌                                                                            | 39/571 [00:11<02:41,  3.29it/s]\n"
     ]
    },
    {
     "ename": "KeyboardInterrupt",
     "evalue": "",
     "output_type": "error",
     "traceback": [
      "\u001b[31m---------------------------------------------------------------------------\u001b[39m",
      "\u001b[31mKeyboardInterrupt\u001b[39m                         Traceback (most recent call last)",
      "\u001b[36mCell\u001b[39m\u001b[36m \u001b[39m\u001b[32mIn[81]\u001b[39m\u001b[32m, line 9\u001b[39m\n\u001b[32m      4\u001b[39m     param.requires_grad = \u001b[38;5;28;01mTrue\u001b[39;00m\n\u001b[32m      6\u001b[39m \u001b[38;5;66;03m# for param in model.layer4.parameters():\u001b[39;00m\n\u001b[32m      7\u001b[39m \u001b[38;5;66;03m#     param.requires_grad = True\u001b[39;00m\n\u001b[32m----> \u001b[39m\u001b[32m9\u001b[39m loss_history_new, acc_history_new = \u001b[43mtrain\u001b[49m\u001b[43m(\u001b[49m\u001b[43mmodel\u001b[49m\u001b[43m,\u001b[49m\u001b[43m \u001b[49m\u001b[43moptimizer\u001b[49m\u001b[43m,\u001b[49m\u001b[43m \u001b[49m\u001b[43mcriterion\u001b[49m\u001b[43m,\u001b[49m\u001b[43m \u001b[49m\u001b[43mtrain_dataloader\u001b[49m\u001b[43m,\u001b[49m\u001b[43m \u001b[49m\u001b[32;43m20\u001b[39;49m\u001b[43m,\u001b[49m\u001b[43m \u001b[49m\u001b[43mvalid_dataloader\u001b[49m\u001b[43m)\u001b[49m\n\u001b[32m     10\u001b[39m loss_history += loss_history_new\n\u001b[32m     11\u001b[39m acc_history += acc_history_new\n",
      "\u001b[36mCell\u001b[39m\u001b[36m \u001b[39m\u001b[32mIn[80]\u001b[39m\u001b[32m, line 45\u001b[39m, in \u001b[36mtrain\u001b[39m\u001b[34m(model, optimizer, criterion, train_dataloader, epochs, val_dataloader, epsilon, alpha, num_steps, step_size, alpha_clean, alpha_fgsm, alpha_pgd)\u001b[39m\n\u001b[32m     42\u001b[39m loss_fgsm = criterion(outputs_fgsm, label)\n\u001b[32m     44\u001b[39m \u001b[38;5;66;03m# Generate adversarial examples with PGD and compute loss\u001b[39;00m\n\u001b[32m---> \u001b[39m\u001b[32m45\u001b[39m adv_imgs_pgd = \u001b[43mpgd_attack\u001b[49m\u001b[43m(\u001b[49m\u001b[43mmodel\u001b[49m\u001b[43m,\u001b[49m\u001b[43m \u001b[49m\u001b[43mimg\u001b[49m\u001b[43m,\u001b[49m\u001b[43m \u001b[49m\u001b[43mlabel\u001b[49m\u001b[43m,\u001b[49m\u001b[43m \u001b[49m\u001b[43mepsilon\u001b[49m\u001b[43m,\u001b[49m\u001b[43m \u001b[49m\u001b[43mnum_steps\u001b[49m\u001b[43m,\u001b[49m\u001b[43m \u001b[49m\u001b[43mstep_size\u001b[49m\u001b[43m,\u001b[49m\u001b[43m \u001b[49m\u001b[43mcriterion\u001b[49m\u001b[43m,\u001b[49m\u001b[43m \u001b[49m\u001b[43mmin_val\u001b[49m\u001b[43m,\u001b[49m\u001b[43m \u001b[49m\u001b[43mmax_val\u001b[49m\u001b[43m)\u001b[49m\n\u001b[32m     46\u001b[39m outputs_pgd = model(adv_imgs_pgd)\n\u001b[32m     47\u001b[39m loss_pgd = criterion(outputs_pgd, label)\n",
      "\u001b[36mCell\u001b[39m\u001b[36m \u001b[39m\u001b[32mIn[77]\u001b[39m\u001b[32m, line 20\u001b[39m, in \u001b[36mpgd_attack\u001b[39m\u001b[34m(model, images, labels, epsilon, num_steps, step_size, criterion, min_val, max_val)\u001b[39m\n\u001b[32m     18\u001b[39m loss = criterion(outputs, labels)\n\u001b[32m     19\u001b[39m model.zero_grad()\n\u001b[32m---> \u001b[39m\u001b[32m20\u001b[39m \u001b[43mloss\u001b[49m\u001b[43m.\u001b[49m\u001b[43mbackward\u001b[49m\u001b[43m(\u001b[49m\u001b[43m)\u001b[49m\n\u001b[32m     21\u001b[39m adv_images = adv_images + step_size * adv_images.grad.sign()\n\u001b[32m     23\u001b[39m perturbation = torch.clamp(adv_images - images, \u001b[38;5;28mmin\u001b[39m=-epsilon, \u001b[38;5;28mmax\u001b[39m=epsilon)\n",
      "\u001b[36mFile \u001b[39m\u001b[32m/net/tscratch/people/tutorial004/ai/lib/python3.12/site-packages/torch/_tensor.py:626\u001b[39m, in \u001b[36mTensor.backward\u001b[39m\u001b[34m(self, gradient, retain_graph, create_graph, inputs)\u001b[39m\n\u001b[32m    616\u001b[39m \u001b[38;5;28;01mif\u001b[39;00m has_torch_function_unary(\u001b[38;5;28mself\u001b[39m):\n\u001b[32m    617\u001b[39m     \u001b[38;5;28;01mreturn\u001b[39;00m handle_torch_function(\n\u001b[32m    618\u001b[39m         Tensor.backward,\n\u001b[32m    619\u001b[39m         (\u001b[38;5;28mself\u001b[39m,),\n\u001b[32m   (...)\u001b[39m\u001b[32m    624\u001b[39m         inputs=inputs,\n\u001b[32m    625\u001b[39m     )\n\u001b[32m--> \u001b[39m\u001b[32m626\u001b[39m \u001b[43mtorch\u001b[49m\u001b[43m.\u001b[49m\u001b[43mautograd\u001b[49m\u001b[43m.\u001b[49m\u001b[43mbackward\u001b[49m\u001b[43m(\u001b[49m\n\u001b[32m    627\u001b[39m \u001b[43m    \u001b[49m\u001b[38;5;28;43mself\u001b[39;49m\u001b[43m,\u001b[49m\u001b[43m \u001b[49m\u001b[43mgradient\u001b[49m\u001b[43m,\u001b[49m\u001b[43m \u001b[49m\u001b[43mretain_graph\u001b[49m\u001b[43m,\u001b[49m\u001b[43m \u001b[49m\u001b[43mcreate_graph\u001b[49m\u001b[43m,\u001b[49m\u001b[43m \u001b[49m\u001b[43minputs\u001b[49m\u001b[43m=\u001b[49m\u001b[43minputs\u001b[49m\n\u001b[32m    628\u001b[39m \u001b[43m\u001b[49m\u001b[43m)\u001b[49m\n",
      "\u001b[36mFile \u001b[39m\u001b[32m/net/tscratch/people/tutorial004/ai/lib/python3.12/site-packages/torch/autograd/__init__.py:347\u001b[39m, in \u001b[36mbackward\u001b[39m\u001b[34m(tensors, grad_tensors, retain_graph, create_graph, grad_variables, inputs)\u001b[39m\n\u001b[32m    342\u001b[39m     retain_graph = create_graph\n\u001b[32m    344\u001b[39m \u001b[38;5;66;03m# The reason we repeat the same comment below is that\u001b[39;00m\n\u001b[32m    345\u001b[39m \u001b[38;5;66;03m# some Python versions print out the first line of a multi-line function\u001b[39;00m\n\u001b[32m    346\u001b[39m \u001b[38;5;66;03m# calls in the traceback and some print out the last line\u001b[39;00m\n\u001b[32m--> \u001b[39m\u001b[32m347\u001b[39m \u001b[43m_engine_run_backward\u001b[49m\u001b[43m(\u001b[49m\n\u001b[32m    348\u001b[39m \u001b[43m    \u001b[49m\u001b[43mtensors\u001b[49m\u001b[43m,\u001b[49m\n\u001b[32m    349\u001b[39m \u001b[43m    \u001b[49m\u001b[43mgrad_tensors_\u001b[49m\u001b[43m,\u001b[49m\n\u001b[32m    350\u001b[39m \u001b[43m    \u001b[49m\u001b[43mretain_graph\u001b[49m\u001b[43m,\u001b[49m\n\u001b[32m    351\u001b[39m \u001b[43m    \u001b[49m\u001b[43mcreate_graph\u001b[49m\u001b[43m,\u001b[49m\n\u001b[32m    352\u001b[39m \u001b[43m    \u001b[49m\u001b[43minputs\u001b[49m\u001b[43m,\u001b[49m\n\u001b[32m    353\u001b[39m \u001b[43m    \u001b[49m\u001b[43mallow_unreachable\u001b[49m\u001b[43m=\u001b[49m\u001b[38;5;28;43;01mTrue\u001b[39;49;00m\u001b[43m,\u001b[49m\n\u001b[32m    354\u001b[39m \u001b[43m    \u001b[49m\u001b[43maccumulate_grad\u001b[49m\u001b[43m=\u001b[49m\u001b[38;5;28;43;01mTrue\u001b[39;49;00m\u001b[43m,\u001b[49m\n\u001b[32m    355\u001b[39m \u001b[43m\u001b[49m\u001b[43m)\u001b[49m\n",
      "\u001b[36mFile \u001b[39m\u001b[32m/net/tscratch/people/tutorial004/ai/lib/python3.12/site-packages/torch/autograd/graph.py:823\u001b[39m, in \u001b[36m_engine_run_backward\u001b[39m\u001b[34m(t_outputs, *args, **kwargs)\u001b[39m\n\u001b[32m    821\u001b[39m     unregister_hooks = _register_logging_hooks_on_whole_graph(t_outputs)\n\u001b[32m    822\u001b[39m \u001b[38;5;28;01mtry\u001b[39;00m:\n\u001b[32m--> \u001b[39m\u001b[32m823\u001b[39m     \u001b[38;5;28;01mreturn\u001b[39;00m \u001b[43mVariable\u001b[49m\u001b[43m.\u001b[49m\u001b[43m_execution_engine\u001b[49m\u001b[43m.\u001b[49m\u001b[43mrun_backward\u001b[49m\u001b[43m(\u001b[49m\u001b[43m  \u001b[49m\u001b[38;5;66;43;03m# Calls into the C++ engine to run the backward pass\u001b[39;49;00m\n\u001b[32m    824\u001b[39m \u001b[43m        \u001b[49m\u001b[43mt_outputs\u001b[49m\u001b[43m,\u001b[49m\u001b[43m \u001b[49m\u001b[43m*\u001b[49m\u001b[43margs\u001b[49m\u001b[43m,\u001b[49m\u001b[43m \u001b[49m\u001b[43m*\u001b[49m\u001b[43m*\u001b[49m\u001b[43mkwargs\u001b[49m\n\u001b[32m    825\u001b[39m \u001b[43m    \u001b[49m\u001b[43m)\u001b[49m  \u001b[38;5;66;03m# Calls into the C++ engine to run the backward pass\u001b[39;00m\n\u001b[32m    826\u001b[39m \u001b[38;5;28;01mfinally\u001b[39;00m:\n\u001b[32m    827\u001b[39m     \u001b[38;5;28;01mif\u001b[39;00m attach_logging_hooks:\n",
      "\u001b[31mKeyboardInterrupt\u001b[39m: "
     ]
    }
   ],
   "source": [
    "loss_history, acc_history = train(model, optimizer, criterion, train_dataloader, 4, valid_dataloader)\n",
    "\n",
    "for param in model.parameters():\n",
    "    param.requires_grad = True\n",
    "\n",
    "# for param in model.layer4.parameters():\n",
    "#     param.requires_grad = True\n",
    "\n",
    "loss_history_new, acc_history_new = train(model, optimizer, criterion, train_dataloader, 20, valid_dataloader)\n",
    "loss_history += loss_history_new\n",
    "acc_history += acc_history_new\n",
    "\n",
    "# for param in model.layer3.parameters():\n",
    "#     param.requires_grad = True\n",
    "\n",
    "loss_history_new, acc_history_new = train(model, optimizer, criterion, train_dataloader, 30, valid_dataloader)\n",
    "loss_history += loss_history_new\n",
    "acc_history += acc_history_new\n",
    "\n",
    "# for param in model.layer2.parameters():\n",
    "#     param.requires_grad = True\n",
    "\n",
    "loss_history_new, acc_history_new = train(model, optimizer, criterion, train_dataloader, 40, valid_dataloader)\n",
    "loss_history += loss_history_new\n",
    "acc_history += acc_history_new"
   ]
  },
  {
   "cell_type": "code",
   "execution_count": null,
   "metadata": {},
   "outputs": [
    {
     "name": "stdout",
     "output_type": "stream",
     "text": [
      "3806\n"
     ]
    }
   ],
   "source": [
    "worst_images = get_some_worst_prediction_images(model, valid_dataloader, 0.1)\n",
    "print(len(worst_images))"
   ]
  },
  {
   "cell_type": "code",
   "execution_count": null,
   "metadata": {},
   "outputs": [
    {
     "data": {
      "image/png": "[encoded data removed]",
      "text/plain": [
       "<Figure size 640x480 with 1 Axes>"
      ]
     },
     "metadata": {},
     "output_type": "display_data"
    }
   ],
   "source": [
    "plt.imshow(worst_images[21][0].cpu().permute(1, 2, 0))\n",
    "plt.show()"
   ]
  },
  {
   "cell_type": "code",
   "execution_count": null,
   "metadata": {},
   "outputs": [],
   "source": [
    "torch.save(model.state_dict(), 'model_weights_2.pt')"
   ]
  },
  {
   "cell_type": "code",
   "execution_count": null,
   "metadata": {},
   "outputs": [
    {
     "name": "stdout",
     "output_type": "stream",
     "text": [
      "200 clean: 0.5733333333333334 fgsm: 0.14433333333333334 pgd: 0.005666666666666667\n"
     ]
    }
   ],
   "source": [
    "# os.makedirs(\"out/models\", exist_ok=True)\n",
    "\n",
    "#### SUBMISSION ####\n",
    "\n",
    "# Create a dummy model\n",
    "# model = models.resnet50(weights=None)\n",
    "# model.fc = nn.Linear(model.fc.weight.shape[1], 10)\n",
    "# torch.save(model.state_dict(), \"out/models/dummy_submission.pt\")\n",
    "\n",
    "#### Tests ####\n",
    "# (these are being ran on the eval endpoint for every submission)\n",
    "\n",
    "allowed_models = {\n",
    "    \"resnet18\": models.resnet18,\n",
    "    \"resnet34\": models.resnet34,\n",
    "    \"resnet50\": models.resnet50,\n",
    "}\n",
    "with open(\"model_weights_2.pt\", \"rb\") as f:\n",
    "    try:\n",
    "        model: torch.nn.Module = allowed_models[\"resnet50\"](weights=None)\n",
    "        model.fc = torch.nn.Linear(model.fc.weight.shape[1], 10)\n",
    "    except Exception as e:\n",
    "        raise Exception(\n",
    "            f\"Invalid model class, {e=}, only {allowed_models.keys()} are allowed\",\n",
    "        )\n",
    "    try:\n",
    "        state_dict = torch.load(f, map_location=torch.device(\"cpu\"))\n",
    "        model.load_state_dict(state_dict, strict=True)\n",
    "        model.eval()\n",
    "        out = model(torch.randn(1, 3, 32, 32))\n",
    "    except Exception as e:\n",
    "        raise Exception(f\"Invalid model, {e=}\")\n",
    "\n",
    "    assert out.shape == (1, 10), \"Invalid output shape\"\n",
    "\n",
    "\n",
    "# Send the model to the server\n",
    "response = requests.post(\n",
    "    \"http://149.156.182.9:6060/task-3/submit\",\n",
    "    headers={\n",
    "        \"token\": \"i2SLZ1KbTzJeGkfPTWxE2Y53W9D0R5\",\n",
    "        \"model-name\": \"resnet50\"\n",
    "    },\n",
    "    files={\n",
    "        \"model_state_dict\": open(\"model_weights_2.pt\", \"rb\")\n",
    "    }\n",
    ")\n",
    "\n",
    "# Should be 400, the clean accuracy is too low\n",
    "print(response.status_code, response.text)"
   ]
  }
 ],
 "metadata": {
  "kernelspec": {
   "display_name": "Python 3 (ipykernel)",
   "language": "python",
   "name": "python3"
  },
  "language_info": {
   "codemirror_mode": {
    "name": "ipython",
    "version": 3
   },
   "file_extension": ".py",
   "mimetype": "text/x-python",
   "name": "python",
   "nbconvert_exporter": "python",
   "pygments_lexer": "ipython3",
   "version": "3.12.9"
  }
 },
 "nbformat": 4,
 "nbformat_minor": 2
}
